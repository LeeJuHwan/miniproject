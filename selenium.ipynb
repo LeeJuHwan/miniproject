{
 "cells": [
  {
   "cell_type": "code",
   "execution_count": 13,
   "id": "817ce206-d0c9-4a59-a4f0-67af2c4d24b5",
   "metadata": {},
   "outputs": [],
   "source": [
    "# pip install webdriver-manager"
   ]
  },
  {
   "cell_type": "markdown",
   "id": "bdceaf5b-8634-4148-800e-4fc988483133",
   "metadata": {
    "jp-MarkdownHeadingCollapsed": true,
    "tags": []
   },
   "source": [
    "# 라이브러리 호출"
   ]
  },
  {
   "cell_type": "code",
   "execution_count": 14,
   "id": "fbc538e9-637a-4ccb-8f30-7960e2f449f8",
   "metadata": {},
   "outputs": [],
   "source": [
    "import time\n",
    "import module.crawling as 상현\n",
    "from bs4 import BeautifulSoup\n",
    "\n",
    "from selenium import webdriver\n",
    "from selenium.webdriver.common.keys import Keys\n",
    "from selenium.webdriver.common.by import By\n",
    "from selenium.webdriver.chrome.service import Service\n",
    "from webdriver_manager.chrome import ChromeDriverManager"
   ]
  },
  {
   "cell_type": "code",
   "execution_count": 6,
   "id": "325577d5-8236-4ec1-a51e-9309bf49a03d",
   "metadata": {},
   "outputs": [
    {
     "name": "stderr",
     "output_type": "stream",
     "text": [
      "[WDM] - Downloading: 100%|████████████████████████████████████████████████████████| 6.46M/6.46M [00:00<00:00, 12.0MB/s]\n"
     ]
    }
   ],
   "source": [
    "browser = webdriver.Chrome(service = Service(ChromeDriverManager().install()))"
   ]
  },
  {
   "cell_type": "markdown",
   "id": "0012054b-f6b5-4a6e-8cc8-0bf669be337a",
   "metadata": {
    "jp-MarkdownHeadingCollapsed": true,
    "tags": []
   },
   "source": [
    "# 모든 링크의 고유넘버 뽑아오기"
   ]
  },
  {
   "cell_type": "code",
   "execution_count": null,
   "id": "dbe19fa2-9632-4cd3-bf87-291a0646c613",
   "metadata": {},
   "outputs": [],
   "source": [
    "\n",
    "top = [] # 반팔, 긴팔, 스웨트셔츠, 후드티\n",
    "outer=[] # 코트, 자켓, 패딩, 플리스, 아노락 등\n",
    "shoes=[] # 컨버스, 스니커즈, 기타 스니커즈\n",
    "bottom=[] # 청바지, 슬랙스, 면바지, 반바지\n",
    "accesseory=[] # 장갑, 목도리, 머플러\n",
    "driver = webdriver.Chrome(service = Service(ChromeDriverManager().install()))\n",
    "driver.get(\"https://www.musinsa.com/ranking/best\")\n",
    "for n in range(4,33):\n",
    "    if n==4:\n",
    "        for i in  driver.find_elements(By.CSS_SELECTOR, f\"#ui-id-{n} > .nav_category_menu > li > a \") :\n",
    "            top.append(i.get_attribute(\"href\").split(\"/\")[-1])\n",
    "    if n==6:\n",
    "        for j in  driver.find_elements(By.CSS_SELECTOR, f\"#ui-id-{n} > .nav_category_menu > li > a \") :\n",
    "            outer.append(j.get_attribute(\"href\").split(\"/\")[-1])\n",
    "    if n==8:\n",
    "        for k in  driver.find_elements(By.CSS_SELECTOR, f\"#ui-id-{n} > .nav_category_menu > li > a \") :\n",
    "            bottom.append(k.get_attribute(\"href\").split(\"/\")[-1])\n",
    "    if n==14:\n",
    "        for l in  driver.find_elements(By.CSS_SELECTOR, f\"#ui-id-{n} > .nav_category_menu > li > a \") :\n",
    "            shoes.append(l.get_attribute(\"href\").split(\"/\")[-1])\n",
    "    if n==32:\n",
    "        for m in  driver.find_elements(By.CSS_SELECTOR, f\"#ui-id-{n} > .nav_category_menu > li > a \") :\n",
    "            accesseory.append(m.get_attribute(\"href\").split(\"/\")[-1])"
   ]
  },
  {
   "cell_type": "code",
   "execution_count": 8,
   "id": "2466acc0-a1e2-4933-8b13-a4e50ed38e93",
   "metadata": {},
   "outputs": [],
   "source": [
    "category={  'top': top,\n",
    "            'outer':outer,\n",
    "            'shoes':shoes,\n",
    "            'bottom':bottom,\n",
    "            'accesseory':accesseory}"
   ]
  },
  {
   "cell_type": "markdown",
   "id": "c90c6825-9eac-4e99-8e81-117e57203b82",
   "metadata": {},
   "source": [
    "# 데이터 수집 및 정제"
   ]
  },
  {
   "cell_type": "code",
   "execution_count": 12,
   "id": "53dedd88-9176-480c-a977-91271aba1f83",
   "metadata": {
    "collapsed": true,
    "jupyter": {
     "outputs_hidden": true
    },
    "tags": []
   },
   "outputs": [
    {
     "ename": "NoSuchWindowException",
     "evalue": "Message: no such window: target window already closed\nfrom unknown error: web view not found\n  (Session info: chrome=107.0.5304.107)\nStacktrace:\nBacktrace:\n\tOrdinal0 [0x005AACD3+2075859]\n\tOrdinal0 [0x0053EE61+1633889]\n\tOrdinal0 [0x0043B7BD+571325]\n\tOrdinal0 [0x00422E1A+470554]\n\tOrdinal0 [0x0048AA0B+895499]\n\tOrdinal0 [0x0049AC96+961686]\n\tOrdinal0 [0x00487136+880950]\n\tOrdinal0 [0x0045FEFD+720637]\n\tOrdinal0 [0x00460F3F+724799]\n\tGetHandleVerifier [0x0085EED2+2769538]\n\tGetHandleVerifier [0x00850D95+2711877]\n\tGetHandleVerifier [0x0063A03A+521194]\n\tGetHandleVerifier [0x00638DA0+516432]\n\tOrdinal0 [0x0054682C+1665068]\n\tOrdinal0 [0x0054B128+1683752]\n\tOrdinal0 [0x0054B215+1683989]\n\tOrdinal0 [0x00556484+1729668]\n\tBaseThreadInitThunk [0x7557FEF9+25]\n\tRtlGetAppContainerNamedObjectPath [0x77637BBE+286]\n\tRtlGetAppContainerNamedObjectPath [0x77637B8E+238]\n",
     "output_type": "error",
     "traceback": [
      "\u001b[1;31m---------------------------------------------------------------------------\u001b[0m",
      "\u001b[1;31mNoSuchWindowException\u001b[0m                     Traceback (most recent call last)",
      "Input \u001b[1;32mIn [12]\u001b[0m, in \u001b[0;36m<cell line: 2>\u001b[1;34m()\u001b[0m\n\u001b[0;32m      3\u001b[0m \u001b[38;5;28;01mfor\u001b[39;00m c \u001b[38;5;129;01min\u001b[39;00m category[i]:\n\u001b[0;32m      4\u001b[0m \u001b[38;5;66;03m# res = requests.get(f\"https://www.musinsa.com/ranking/best?period=now&age=ALL&mainCategory=&subCategory=&leafCategory=&price=&golf=false&kids=false&newProduct=false&exclusive=false&discount=false&soldOut=false&page={i}&viewType=small&priceMin=&priceMax=\")\u001b[39;00m\n\u001b[0;32m      5\u001b[0m     \u001b[38;5;28;01mfor\u001b[39;00m k \u001b[38;5;129;01min\u001b[39;00m \u001b[38;5;28mrange\u001b[39m(\u001b[38;5;241m3\u001b[39m):\n\u001b[1;32m----> 6\u001b[0m         \u001b[43mdriver\u001b[49m\u001b[38;5;241;43m.\u001b[39;49m\u001b[43mget\u001b[49m\u001b[43m(\u001b[49m\u001b[38;5;124;43mf\u001b[39;49m\u001b[38;5;124;43m\"\u001b[39;49m\u001b[38;5;124;43mhttps://www.musinsa.com/categories/item/\u001b[39;49m\u001b[38;5;132;43;01m{\u001b[39;49;00m\u001b[43mc\u001b[49m\u001b[38;5;132;43;01m}\u001b[39;49;00m\u001b[38;5;124;43m?d_cat_cd=\u001b[39;49m\u001b[38;5;132;43;01m{\u001b[39;49;00m\u001b[43mc\u001b[49m\u001b[38;5;132;43;01m}\u001b[39;49;00m\u001b[38;5;124;43m&brand=&list_kind=small&sort=sale_high&sub_sort=1y&page=\u001b[39;49m\u001b[38;5;132;43;01m{\u001b[39;49;00m\u001b[43mk\u001b[49m\u001b[38;5;132;43;01m}\u001b[39;49;00m\u001b[38;5;124;43m&display_cnt=90&group_sale=&exclusive_yn=&sale_goods=&timesale_yn=&ex_soldout=&kids=&color=&price1=&price2=&shoeSizeOption=&tags=&campaign_id=&includeKeywords=&measure=\u001b[39;49m\u001b[38;5;124;43m\"\u001b[39;49m\u001b[43m)\u001b[49m\n\u001b[0;32m      7\u001b[0m         html \u001b[38;5;241m=\u001b[39m driver\u001b[38;5;241m.\u001b[39mpage_source\n\u001b[0;32m      8\u001b[0m         soup \u001b[38;5;241m=\u001b[39m BeautifulSoup(html, \u001b[38;5;124m\"\u001b[39m\u001b[38;5;124mhtml.parser\u001b[39m\u001b[38;5;124m\"\u001b[39m)\n",
      "File \u001b[1;32m~\\anaconda3\\lib\\site-packages\\selenium\\webdriver\\remote\\webdriver.py:455\u001b[0m, in \u001b[0;36mWebDriver.get\u001b[1;34m(self, url)\u001b[0m\n\u001b[0;32m    451\u001b[0m \u001b[38;5;28;01mdef\u001b[39;00m \u001b[38;5;21mget\u001b[39m(\u001b[38;5;28mself\u001b[39m, url: \u001b[38;5;28mstr\u001b[39m) \u001b[38;5;241m-\u001b[39m\u001b[38;5;241m>\u001b[39m \u001b[38;5;28;01mNone\u001b[39;00m:\n\u001b[0;32m    452\u001b[0m     \u001b[38;5;124;03m\"\"\"\u001b[39;00m\n\u001b[0;32m    453\u001b[0m \u001b[38;5;124;03m    Loads a web page in the current browser session.\u001b[39;00m\n\u001b[0;32m    454\u001b[0m \u001b[38;5;124;03m    \"\"\"\u001b[39;00m\n\u001b[1;32m--> 455\u001b[0m     \u001b[38;5;28;43mself\u001b[39;49m\u001b[38;5;241;43m.\u001b[39;49m\u001b[43mexecute\u001b[49m\u001b[43m(\u001b[49m\u001b[43mCommand\u001b[49m\u001b[38;5;241;43m.\u001b[39;49m\u001b[43mGET\u001b[49m\u001b[43m,\u001b[49m\u001b[43m \u001b[49m\u001b[43m{\u001b[49m\u001b[38;5;124;43m\"\u001b[39;49m\u001b[38;5;124;43murl\u001b[39;49m\u001b[38;5;124;43m\"\u001b[39;49m\u001b[43m:\u001b[49m\u001b[43m \u001b[49m\u001b[43murl\u001b[49m\u001b[43m}\u001b[49m\u001b[43m)\u001b[49m\n",
      "File \u001b[1;32m~\\anaconda3\\lib\\site-packages\\selenium\\webdriver\\remote\\webdriver.py:444\u001b[0m, in \u001b[0;36mWebDriver.execute\u001b[1;34m(self, driver_command, params)\u001b[0m\n\u001b[0;32m    442\u001b[0m response \u001b[38;5;241m=\u001b[39m \u001b[38;5;28mself\u001b[39m\u001b[38;5;241m.\u001b[39mcommand_executor\u001b[38;5;241m.\u001b[39mexecute(driver_command, params)\n\u001b[0;32m    443\u001b[0m \u001b[38;5;28;01mif\u001b[39;00m response:\n\u001b[1;32m--> 444\u001b[0m     \u001b[38;5;28;43mself\u001b[39;49m\u001b[38;5;241;43m.\u001b[39;49m\u001b[43merror_handler\u001b[49m\u001b[38;5;241;43m.\u001b[39;49m\u001b[43mcheck_response\u001b[49m\u001b[43m(\u001b[49m\u001b[43mresponse\u001b[49m\u001b[43m)\u001b[49m\n\u001b[0;32m    445\u001b[0m     response[\u001b[38;5;124m\"\u001b[39m\u001b[38;5;124mvalue\u001b[39m\u001b[38;5;124m\"\u001b[39m] \u001b[38;5;241m=\u001b[39m \u001b[38;5;28mself\u001b[39m\u001b[38;5;241m.\u001b[39m_unwrap_value(response\u001b[38;5;241m.\u001b[39mget(\u001b[38;5;124m\"\u001b[39m\u001b[38;5;124mvalue\u001b[39m\u001b[38;5;124m\"\u001b[39m, \u001b[38;5;28;01mNone\u001b[39;00m))\n\u001b[0;32m    446\u001b[0m     \u001b[38;5;28;01mreturn\u001b[39;00m response\n",
      "File \u001b[1;32m~\\anaconda3\\lib\\site-packages\\selenium\\webdriver\\remote\\errorhandler.py:249\u001b[0m, in \u001b[0;36mErrorHandler.check_response\u001b[1;34m(self, response)\u001b[0m\n\u001b[0;32m    247\u001b[0m         alert_text \u001b[38;5;241m=\u001b[39m value[\u001b[38;5;124m\"\u001b[39m\u001b[38;5;124malert\u001b[39m\u001b[38;5;124m\"\u001b[39m]\u001b[38;5;241m.\u001b[39mget(\u001b[38;5;124m\"\u001b[39m\u001b[38;5;124mtext\u001b[39m\u001b[38;5;124m\"\u001b[39m)\n\u001b[0;32m    248\u001b[0m     \u001b[38;5;28;01mraise\u001b[39;00m exception_class(message, screen, stacktrace, alert_text)  \u001b[38;5;66;03m# type: ignore[call-arg]  # mypy is not smart enough here\u001b[39;00m\n\u001b[1;32m--> 249\u001b[0m \u001b[38;5;28;01mraise\u001b[39;00m exception_class(message, screen, stacktrace)\n",
      "\u001b[1;31mNoSuchWindowException\u001b[0m: Message: no such window: target window already closed\nfrom unknown error: web view not found\n  (Session info: chrome=107.0.5304.107)\nStacktrace:\nBacktrace:\n\tOrdinal0 [0x005AACD3+2075859]\n\tOrdinal0 [0x0053EE61+1633889]\n\tOrdinal0 [0x0043B7BD+571325]\n\tOrdinal0 [0x00422E1A+470554]\n\tOrdinal0 [0x0048AA0B+895499]\n\tOrdinal0 [0x0049AC96+961686]\n\tOrdinal0 [0x00487136+880950]\n\tOrdinal0 [0x0045FEFD+720637]\n\tOrdinal0 [0x00460F3F+724799]\n\tGetHandleVerifier [0x0085EED2+2769538]\n\tGetHandleVerifier [0x00850D95+2711877]\n\tGetHandleVerifier [0x0063A03A+521194]\n\tGetHandleVerifier [0x00638DA0+516432]\n\tOrdinal0 [0x0054682C+1665068]\n\tOrdinal0 [0x0054B128+1683752]\n\tOrdinal0 [0x0054B215+1683989]\n\tOrdinal0 [0x00556484+1729668]\n\tBaseThreadInitThunk [0x7557FEF9+25]\n\tRtlGetAppContainerNamedObjectPath [0x77637BBE+286]\n\tRtlGetAppContainerNamedObjectPath [0x77637B8E+238]\n"
     ]
    }
   ],
   "source": [
    "result = []\n",
    "for i in category: # 카테고리 (딕셔너리 형태)\n",
    "    for c in category[i]: # 카테고리의 고유번호 추출\n",
    "        for k in range(3): # 페이지 번호 \n",
    "            driver.get(f\"https://www.musinsa.com/categories/item/{c}?d_cat_cd={c}&brand=&list_kind=small&sort=sale_high&sub_sort=1y&page={k}&display_cnt=90&group_sale=&exclusive_yn=&sale_goods=&timesale_yn=&ex_soldout=&kids=&color=&price1=&price2=&shoeSizeOption=&tags=&campaign_id=&includeKeywords=&measure=\")\n",
    "            html = driver.page_source\n",
    "            soup = BeautifulSoup(html, \"html.parser\")\n",
    "            time.sleep(5)\n",
    "            for j in soup.select(\"#searchList > .li_box\") :\n",
    "                try :\n",
    "                    temp = []\n",
    "                    temp.append(상현.brand(j)) # 브랜드\n",
    "                    temp.append(상현.product(j)) # 상품명\n",
    "                    temp.append(상현.price(j)) # 가격\n",
    "                    temp.append(상현.review(j)) # 리뷰\n",
    "                    temp.append(상현.heart(j)) # 좋아요\n",
    "                    \n",
    "                except :\n",
    "                    pass\n",
    "                result.append(temp)"
   ]
  },
  {
   "cell_type": "markdown",
   "id": "8cb03396-a84e-4a27-add4-8fb20620e86e",
   "metadata": {},
   "source": [
    "# 데이터 프레임 형태로 전환"
   ]
  },
  {
   "cell_type": "code",
   "execution_count": null,
   "id": "8dad443e-682f-4eb1-be16-cd8a82cdb40e",
   "metadata": {},
   "outputs": [],
   "source": []
  }
 ],
 "metadata": {
  "kernelspec": {
   "display_name": "Python 3 (ipykernel)",
   "language": "python",
   "name": "python3"
  },
  "language_info": {
   "codemirror_mode": {
    "name": "ipython",
    "version": 3
   },
   "file_extension": ".py",
   "mimetype": "text/x-python",
   "name": "python",
   "nbconvert_exporter": "python",
   "pygments_lexer": "ipython3",
   "version": "3.9.12"
  },
  "vscode": {
   "interpreter": {
    "hash": "a077222d77dfe082b8f1dd562ad70e458ac2ab76993a0b248ab0476e32e9e8dd"
   }
  }
 },
 "nbformat": 4,
 "nbformat_minor": 5
}
