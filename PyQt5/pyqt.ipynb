{
 "cells": [
  {
   "cell_type": "code",
   "execution_count": 1,
   "id": "8506b9bd-303a-4147-9d9d-939b1417b9fd",
   "metadata": {},
   "outputs": [],
   "source": [
    "from PyQt5 import QtWidgets, QtCore\n",
    "from web import Ui_Form\n",
    "\n",
    "import sys"
   ]
  },
  {
   "cell_type": "code",
   "execution_count": null,
   "id": "1d3f1050-8738-4783-8f43-b55534905116",
   "metadata": {},
   "outputs": [
    {
     "name": "stderr",
     "output_type": "stream",
     "text": [
      "Unknown property font-familyu\n",
      "QFont::setPointSize: Point size <= 0 (-1), must be greater than 0\n",
      "Unknown property font-familyu\n",
      "QFont::setPointSize: Point size <= 0 (-1), must be greater than 0\n",
      "Unknown property font-familyu\n",
      "QFont::setPointSize: Point size <= 0 (-1), must be greater than 0\n",
      "Unknown property font-familyu\n",
      "QFont::setPointSize: Point size <= 0 (-1), must be greater than 0\n",
      "Unknown property font-familyu\n",
      "QFont::setPointSize: Point size <= 0 (-1), must be greater than 0\n",
      "Unknown property font-familyu\n",
      "QFont::setPointSize: Point size <= 0 (-1), must be greater than 0\n",
      "Unknown property border-top-right-raidus\n",
      "Unknown property border-top-right-raidus\n",
      "Unknown property font-familyu\n",
      "Unknown property font-familyu\n",
      "Unknown property font-familyu\n",
      "Unknown property font-familyu\n",
      "Unknown property font-familyu\n",
      "Unknown property font-familyu\n",
      "Unknown property font-familyu\n",
      "Unknown property font-familyu\n",
      "Unknown property font-familyu\n",
      "Unknown property font-familyu\n",
      "Unknown property font-familyu\n",
      "Unknown property font-familyu\n",
      "Unknown property font-familyu\n",
      "Unknown property font-familyu\n"
     ]
    }
   ],
   "source": [
    "class browserApp(QtWidgets.QWidget, Ui_Form) :\n",
    "    def __init__(self) :\n",
    "        super(browserApp, self).__init__()\n",
    "        self.setupUi(self)\n",
    "        self.pushButton.clicked.connect(self.showMinimized)\n",
    "        self.pushButton_2.clicked.connect(self.winShowMaximized)\n",
    "        self.pushButton_3.clicked.connect(sys.exit)\n",
    "        \n",
    "    def winShowMaximized(self) :\n",
    "        if self.pushButton_2.isChecked() :\n",
    "            self.showMaximized()\n",
    "        else :\n",
    "            self.showNormal()\n",
    "if __name__ == \"__main__\":\n",
    "        app = QtWidgets.QApplication(sys.argv)\n",
    "        Form = browserApp()\n",
    "        Form.show()\n",
    "        sys.exit(app.exec_())"
   ]
  },
  {
   "cell_type": "code",
   "execution_count": null,
   "id": "857b6a8d-d868-4642-861d-503d3c3994a7",
   "metadata": {},
   "outputs": [],
   "source": []
  }
 ],
 "metadata": {
  "kernelspec": {
   "display_name": "Python 3 (ipykernel)",
   "language": "python",
   "name": "python3"
  },
  "language_info": {
   "codemirror_mode": {
    "name": "ipython",
    "version": 3
   },
   "file_extension": ".py",
   "mimetype": "text/x-python",
   "name": "python",
   "nbconvert_exporter": "python",
   "pygments_lexer": "ipython3",
   "version": "3.9.13"
  }
 },
 "nbformat": 4,
 "nbformat_minor": 5
}
