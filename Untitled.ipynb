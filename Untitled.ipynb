{
 "cells": [
  {
   "cell_type": "code",
   "execution_count": 1,
   "id": "fbc538e9-637a-4ccb-8f30-7960e2f449f8",
   "metadata": {},
   "outputs": [],
   "source": [
    "from selenium import webdriver\n",
    "from selenium.webdriver.common.keys import Keys\n",
    "from selenium.webdriver.common.by import By\n",
    "\n",
    "from selenium.webdriver.chrome.service import Service\n",
    "from webdriver_manager.chrome import ChromeDriverManager"
   ]
  },
  {
   "cell_type": "code",
   "execution_count": 53,
   "id": "325577d5-8236-4ec1-a51e-9309bf49a03d",
   "metadata": {},
   "outputs": [],
   "source": [
    "browser = webdriver.Chrome(service = Service(ChromeDriverManager().install()))"
   ]
  },
  {
   "cell_type": "code",
   "execution_count": 57,
   "id": "dbe19fa2-9632-4cd3-bf87-291a0646c613",
   "metadata": {},
   "outputs": [],
   "source": [
    "browser.get(\"https://www.musinsa.com/ranking/best\")"
   ]
  },
  {
   "cell_type": "code",
   "execution_count": 61,
   "id": "2466acc0-a1e2-4933-8b13-a4e50ed38e93",
   "metadata": {},
   "outputs": [],
   "source": [
    "link = []\n",
    "for i in  browser.find_elements(By.CSS_SELECTOR, \"#ui-id-4 > .nav_category_menu > li > a \") :\n",
    "    link.append(i.get_attribute(\"href\"))"
   ]
  },
  {
   "cell_type": "code",
   "execution_count": 65,
   "id": "53dedd88-9176-480c-a977-91271aba1f83",
   "metadata": {},
   "outputs": [],
   "source": [
    "for j in range(len(link)) :\n",
    "    browser.get(link[j])"
   ]
  },
  {
   "cell_type": "code",
   "execution_count": 59,
   "id": "b07e8613-eb67-4e76-bb05-c12993658334",
   "metadata": {},
   "outputs": [
    {
     "data": {
      "text/plain": [
       "'https://www.musinsa.com/categories/item/001001'"
      ]
     },
     "execution_count": 59,
     "metadata": {},
     "output_type": "execute_result"
    }
   ],
   "source": [
    "button"
   ]
  },
  {
   "cell_type": "code",
   "execution_count": null,
   "id": "8dad443e-682f-4eb1-be16-cd8a82cdb40e",
   "metadata": {},
   "outputs": [],
   "source": []
  }
 ],
 "metadata": {
  "kernelspec": {
   "display_name": "Python 3 (ipykernel)",
   "language": "python",
   "name": "python3"
  },
  "language_info": {
   "codemirror_mode": {
    "name": "ipython",
    "version": 3
   },
   "file_extension": ".py",
   "mimetype": "text/x-python",
   "name": "python",
   "nbconvert_exporter": "python",
   "pygments_lexer": "ipython3",
   "version": "3.9.12"
  }
 },
 "nbformat": 4,
 "nbformat_minor": 5
}
