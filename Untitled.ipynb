{
 "cells": [
  {
   "cell_type": "code",
   "execution_count": 1,
   "id": "fbc538e9-637a-4ccb-8f30-7960e2f449f8",
   "metadata": {},
   "outputs": [],
   "source": [
    "from selenium import webdriver\n",
    "from selenium.webdriver.common.keys import Keys\n",
    "from selenium.webdriver.common.by import By\n",
    "\n",
    "from selenium.webdriver.chrome.service import Service\n",
    "from webdriver_manager.chrome import ChromeDriverManager"
   ]
  },
  {
   "cell_type": "code",
   "execution_count": 53,
   "id": "325577d5-8236-4ec1-a51e-9309bf49a03d",
   "metadata": {},
   "outputs": [],
   "source": [
    "browser = webdriver.Chrome(service = Service(ChromeDriverManager().install()))"
   ]
  },
  {
   "cell_type": "code",
   "execution_count": 57,
   "id": "dbe19fa2-9632-4cd3-bf87-291a0646c613",
   "metadata": {},
   "outputs": [],
   "source": [
    "#모든 링크의 고유넘버 뽑아오기\n",
    "top = []\n",
    "outer=[]\n",
    "shoes=[]\n",
    "bottom=[]\n",
    "accesseory=[]\n",
    "driver = webdriver.Chrome(service = Service(ChromeDriverManager().install()))\n",
    "driver.get(\"https://www.musinsa.com/ranking/best\")\n",
    "for n in range(4,33):\n",
    "\n",
    "    if n==4:\n",
    "        for i in  driver.find_elements(By.CSS_SELECTOR, f\"#ui-id-{n} > .nav_category_menu > li > a \") :\n",
    "            top.append(i.get_attribute(\"href\").split(\"/\")[-1])\n",
    "    if n==6:\n",
    "        for j in  driver.find_elements(By.CSS_SELECTOR, f\"#ui-id-{n} > .nav_category_menu > li > a \") :\n",
    "            outer.append(j.get_attribute(\"href\").split(\"/\")[-1])\n",
    "    if n==8:\n",
    "        for k in  driver.find_elements(By.CSS_SELECTOR, f\"#ui-id-{n} > .nav_category_menu > li > a \") :\n",
    "            bottom.append(k.get_attribute(\"href\").split(\"/\")[-1])\n",
    "    if n==14:\n",
    "        for l in  driver.find_elements(By.CSS_SELECTOR, f\"#ui-id-{n} > .nav_category_menu > li > a \") :\n",
    "            shoes.append(l.get_attribute(\"href\").split(\"/\")[-1])\n",
    "    if n==32:\n",
    "        for m in  driver.find_elements(By.CSS_SELECTOR, f\"#ui-id-{n} > .nav_category_menu > li > a \") :\n",
    "            accesseory.append(m.get_attribute(\"href\").split(\"/\")[-1])"
   ]
  },
  {
   "cell_type": "code",
   "execution_count": 61,
   "id": "2466acc0-a1e2-4933-8b13-a4e50ed38e93",
   "metadata": {},
   "outputs": [],
   "source": [
    "category={  'top': top,\n",
    "            'outer':outer,\n",
    "            'shoes':shoes,\n",
    "            'bottom':bottom,\n",
    "            'accesseory':accesseory}"
   ]
  },
  {
   "cell_type": "code",
   "execution_count": 65,
   "id": "53dedd88-9176-480c-a977-91271aba1f83",
   "metadata": {},
   "outputs": [],
   "source": [
    "result = []\n",
    "for i in category:\n",
    "    for c in category[i]:\n",
    "    # res = requests.get(f\"https://www.musinsa.com/ranking/best?period=now&age=ALL&mainCategory=&subCategory=&leafCategory=&price=&golf=false&kids=false&newProduct=false&exclusive=false&discount=false&soldOut=false&page={i}&viewType=small&priceMin=&priceMax=\")\n",
    "        for k in range(3):\n",
    "            driver.get(f\"https://www.musinsa.com/categories/item/{c}?d_cat_cd={c}&brand=&list_kind=small&sort=sale_high&sub_sort=1y&page={k}&display_cnt=90&group_sale=&exclusive_yn=&sale_goods=&timesale_yn=&ex_soldout=&kids=&color=&price1=&price2=&shoeSizeOption=&tags=&campaign_id=&includeKeywords=&measure=\")\n",
    "            html = driver.page_source\n",
    "            soup = BeautifulSoup(html, \"html.parser\")\n",
    "            for j in soup.select(\"#searchList > .li_box\") :\n",
    "                try :\n",
    "                    temp = []\n",
    "                    temp.append(상현.brand(j)) # 브랜드\n",
    "                    temp.append(상현.product(j)) # 상품명\n",
    "                    temp.append(상현.price(j)) # 가격\n",
    "                    temp.append(상현.review(j)) # 리뷰\n",
    "                    temp.append(상현.heart(j)) # 좋아요\n",
    "                    temp.append(\n",
    "                except :\n",
    "                    pass\n",
    "                result.append(temp)"
   ]
  },
  {
   "cell_type": "code",
   "execution_count": 59,
   "id": "b07e8613-eb67-4e76-bb05-c12993658334",
   "metadata": {},
   "outputs": [
    {
     "data": {
      "text/plain": [
       "'https://www.musinsa.com/categories/item/001001'"
      ]
     },
     "execution_count": 59,
     "metadata": {},
     "output_type": "execute_result"
    }
   ],
   "source": []
  },
  {
   "cell_type": "code",
   "execution_count": null,
   "id": "8dad443e-682f-4eb1-be16-cd8a82cdb40e",
   "metadata": {},
   "outputs": [],
   "source": []
  }
 ],
 "metadata": {
  "kernelspec": {
   "display_name": "Python 3.9.12 ('base')",
   "language": "python",
   "name": "python3"
  },
  "language_info": {
   "codemirror_mode": {
    "name": "ipython",
    "version": 3
   },
   "file_extension": ".py",
   "mimetype": "text/x-python",
   "name": "python",
   "nbconvert_exporter": "python",
   "pygments_lexer": "ipython3",
   "version": "3.9.12"
  },
  "vscode": {
   "interpreter": {
    "hash": "a077222d77dfe082b8f1dd562ad70e458ac2ab76993a0b248ab0476e32e9e8dd"
   }
  }
 },
 "nbformat": 4,
 "nbformat_minor": 5
}
