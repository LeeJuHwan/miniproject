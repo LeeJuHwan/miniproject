{
 "cells": [
  {
   "cell_type": "code",
   "execution_count": 1,
   "id": "fbc538e9-637a-4ccb-8f30-7960e2f449f8",
   "metadata": {},
   "outputs": [],
   "source": [
    "import requests\n",
    "from bs4 import BeautifulSoup\n",
    "from selenium import webdriver\n",
    "from selenium.webdriver.common.keys import Keys\n",
    "from selenium.webdriver.common.by import By\n",
    "\n",
    "from selenium.webdriver.chrome.service import Service\n",
    "from webdriver_manager.chrome import ChromeDriverManager\n",
    "import module.crawling as 상현\n",
    "from tqdm import tqdm"
   ]
  },
  {
   "cell_type": "markdown",
   "id": "7e520868-7619-4dec-ba53-909831591c44",
   "metadata": {},
   "source": [
    "# 카테고리 링크 "
   ]
  },
  {
   "cell_type": "code",
   "execution_count": 2,
   "id": "325577d5-8236-4ec1-a51e-9309bf49a03d",
   "metadata": {},
   "outputs": [],
   "source": [
    "driver = webdriver.Chrome(service = Service(ChromeDriverManager().install()))"
   ]
  },
  {
   "cell_type": "code",
   "execution_count": 3,
   "id": "dbe19fa2-9632-4cd3-bf87-291a0646c613",
   "metadata": {},
   "outputs": [],
   "source": [
    "driver.get(\"https://www.musinsa.com/ranking/best\")"
   ]
  },
  {
   "cell_type": "code",
   "execution_count": null,
   "id": "2466acc0-a1e2-4933-8b13-a4e50ed38e93",
   "metadata": {},
   "outputs": [],
   "source": [
    "#상의 링크\n",
    "top = []\n",
    "for i in  driver.find_elements(By.CSS_SELECTOR, \"#ui-id-4 > .nav_category_menu > li > a \") :\n",
    "    link.append(i.get_attribute(\"href\"))"
   ]
  },
  {
   "cell_type": "code",
   "execution_count": null,
   "id": "36e86241-1933-4b1d-9430-b6b72ea3e72a",
   "metadata": {},
   "outputs": [],
   "source": [
    "link"
   ]
  },
  {
   "cell_type": "code",
   "execution_count": null,
   "id": "b07e8613-eb67-4e76-bb05-c12993658334",
   "metadata": {},
   "outputs": [],
   "source": [
    "button"
   ]
  },
  {
   "cell_type": "code",
   "execution_count": null,
   "id": "e3cef59c-f400-455a-baad-da44c4310ca5",
   "metadata": {},
   "outputs": [],
   "source": [
    "상현.shoes_num"
   ]
  },
  {
   "cell_type": "code",
   "execution_count": null,
   "id": "96930a46-df05-4ec8-aaa4-464361ed027d",
   "metadata": {},
   "outputs": [],
   "source": [
    "#아우터 링크\n",
    "outer=[]\n",
    "for i in driver.find_elements(By.CSS_SELECTOR,'#ui-id-6 >.nav_category_menu>li>a'):\n",
    "    outer.append(i.get_attribute(\"href\"))"
   ]
  },
  {
   "cell_type": "code",
   "execution_count": null,
   "id": "c49e9f06-079f-448a-9794-ae69a0505581",
   "metadata": {},
   "outputs": [],
   "source": [
    "outer"
   ]
  },
  {
   "cell_type": "code",
   "execution_count": null,
   "id": "d88c2c67-42d5-473e-a1e5-4b84719f7a8c",
   "metadata": {},
   "outputs": [],
   "source": [
    "#하의 링크"
   ]
  },
  {
   "cell_type": "code",
   "execution_count": null,
   "id": "8ba33f15-8cf5-4946-a667-ba2e0e16b7d4",
   "metadata": {},
   "outputs": [],
   "source": [
    "driver.find_element(By.CSS_SELECTOR,'#ui-id-8 > .nav_category_menu > li > a').get_attribute(\"href\")"
   ]
  },
  {
   "cell_type": "code",
   "execution_count": null,
   "id": "da266e61-2813-49a8-9811-62cd43eac130",
   "metadata": {},
   "outputs": [],
   "source": [
    "pants=[]\n",
    "for i in driver.find_elements(By.CSS_SELECTOR,'#ui-id-8 > .nav_category_menu > li > a'):\n",
    "    pants.append(i.get_dom_attribute(\"href\"))"
   ]
  },
  {
   "cell_type": "code",
   "execution_count": null,
   "id": "e9e1c387-e624-4c4f-b43f-e687b8f4ee91",
   "metadata": {},
   "outputs": [],
   "source": [
    "pants"
   ]
  },
  {
   "cell_type": "code",
   "execution_count": null,
   "id": "04f0def4-4b66-4d30-8105-6c1b8cb5aa30",
   "metadata": {},
   "outputs": [],
   "source": [
    "#신발(스니커즈) 링크"
   ]
  },
  {
   "cell_type": "code",
   "execution_count": null,
   "id": "038a8910-559e-41c2-9e23-2df6c12f35a8",
   "metadata": {},
   "outputs": [],
   "source": [
    "driver.find_element(By.CSS_SELECTOR,'#ui-id-14 > .nav_category_menu> li >a').get_attribute(\"href\")"
   ]
  },
  {
   "cell_type": "code",
   "execution_count": null,
   "id": "54a099bd-e26e-43e0-9763-5c7ee7b8ffbe",
   "metadata": {},
   "outputs": [],
   "source": [
    "shoes=[]\n",
    "for i in driver.find_elements(By.CSS_SELECTOR,'#ui-id-14 > .nav_category_menu> li >a'):\n",
    "    shoes.append(i.get_attribute('href'))"
   ]
  },
  {
   "cell_type": "code",
   "execution_count": null,
   "id": "745cdaed-7977-47b2-865e-bd29fd5d9c24",
   "metadata": {},
   "outputs": [],
   "source": [
    "shoes = ['https://www.musinsa.com/categories/item/018002',\n",
    " 'https://www.musinsa.com/categories/item/018003',\n",
    " 'https://www.musinsa.com/categories/item/018004']"
   ]
  },
  {
   "cell_type": "code",
   "execution_count": null,
   "id": "5d1e071a-40a9-48b7-aa1f-95417ba33e2d",
   "metadata": {},
   "outputs": [],
   "source": [
    "shoes_num = []"
   ]
  },
  {
   "cell_type": "code",
   "execution_count": null,
   "id": "2eeb0c65-d29c-4e61-85aa-d97258533506",
   "metadata": {},
   "outputs": [],
   "source": [
    "for i in shoes :\n",
    "    shoes_num.append(i.split(\"/\")[-1])"
   ]
  },
  {
   "cell_type": "code",
   "execution_count": null,
   "id": "84950219-5ab4-4dcd-aad3-e773b55255c3",
   "metadata": {},
   "outputs": [],
   "source": [
    "shoes_num = ['018002', '018003', '018004']"
   ]
  },
  {
   "cell_type": "code",
   "execution_count": null,
   "id": "285fa067-b916-4162-8404-0e36e7f980f5",
   "metadata": {},
   "outputs": [],
   "source": [
    "#악세서리(머플러,스카프,장갑)\n",
    "accesseory=[]\n",
    "for i in range(1,4):\n",
    "    acc=driver.find_elements(By.CSS_SELECTOR,f'#ui-id-32 > ul:nth-child(3) > li:nth-child({i}) > a')\n",
    "    for j in acc:\n",
    "        accesseory.append(j.get_attribute('href'))\n",
    "    "
   ]
  },
  {
   "cell_type": "code",
   "execution_count": null,
   "id": "d4b07691-a986-42c6-876b-f594b55524b1",
   "metadata": {},
   "outputs": [],
   "source": [
    "accesseory"
   ]
  },
  {
   "cell_type": "code",
   "execution_count": null,
   "id": "0fdc76a0-6463-4319-8a7c-a55445e15655",
   "metadata": {},
   "outputs": [],
   "source": [
    "#ui-id-32 > ul:nth-child(3) > li:nth-child(1) > a"
   ]
  },
  {
   "cell_type": "code",
   "execution_count": null,
   "id": "e1eb01ee-66c1-46ab-9c18-19a7f6803023",
   "metadata": {},
   "outputs": [],
   "source": [
    "#ui-id-32 > ul:nth-child(3) > li:nth-child(2) > a"
   ]
  },
  {
   "cell_type": "code",
   "execution_count": null,
   "id": "47b820a7-543e-4ef0-8e9a-ae57f1c1867c",
   "metadata": {},
   "outputs": [],
   "source": [
    "#ui-id-32 > ul:nth-child(3) > li:nth-child(3) > a"
   ]
  },
  {
   "cell_type": "code",
   "execution_count": null,
   "id": "7543766a-968c-43b1-9971-32d7b4d0d8d3",
   "metadata": {
    "tags": []
   },
   "outputs": [],
   "source": [
    "#모든 링크의 고유넘버 뽑아오기\n",
    "top = []\n",
    "outer=[]\n",
    "shoes=[]\n",
    "bottom=[]\n",
    "accesseory=[]\n",
    "driver = webdriver.Chrome(service = Service(ChromeDriverManager().install()))\n",
    "driver.get(\"https://www.musinsa.com/ranking/best\")\n",
    "for n in range(4,33):\n",
    "\n",
    "    if n==4:\n",
    "        for i in  driver.find_elements(By.CSS_SELECTOR, f\"#ui-id-{n} > .nav_category_menu > li > a \") :\n",
    "            top.append(i.get_attribute(\"href\").split(\"/\")[-1])\n",
    "    if n==6:\n",
    "        for j in  driver.find_elements(By.CSS_SELECTOR, f\"#ui-id-{n} > .nav_category_menu > li > a \") :\n",
    "            outer.append(j.get_attribute(\"href\").split(\"/\")[-1])\n",
    "    if n==8:\n",
    "        for k in  driver.find_elements(By.CSS_SELECTOR, f\"#ui-id-{n} > .nav_category_menu > li > a \") :\n",
    "            bottom.append(k.get_attribute(\"href\").split(\"/\")[-1])\n",
    "    if n==14:\n",
    "        for l in  driver.find_elements(By.CSS_SELECTOR, f\"#ui-id-{n} > .nav_category_menu > li > a \") :\n",
    "            shoes.append(l.get_attribute(\"href\").split(\"/\")[-1])\n",
    "    if n==32:\n",
    "        for m in  driver.find_elements(By.CSS_SELECTOR, f\"#ui-id-{n} > .nav_category_menu > li > a \") :\n",
    "            accesseory.append(m.get_attribute(\"href\").split(\"/\")[-1])\n",
    "\n",
    "        \n",
    "    "
   ]
  },
  {
   "cell_type": "code",
   "execution_count": null,
   "id": "ba603c9c-899e-4e42-9c65-554c00d03114",
   "metadata": {},
   "outputs": [],
   "source": [
    "shoes_num = []\n",
    "for i in driver.find_elements(By.CSS_SELECTOR,'#ui-id-14 > .nav_category_menu> li >a'):\n",
    "    shoes_num.append(i.get_attribute('href').split(\"/\")[-1])\n"
   ]
  },
  {
   "cell_type": "code",
   "execution_count": null,
   "id": "1c2cb738-6360-460e-9cc0-aa3ad0de4277",
   "metadata": {},
   "outputs": [],
   "source": [
    "bottom"
   ]
  },
  {
   "cell_type": "code",
   "execution_count": null,
   "id": "9f7e1b35-124e-4890-a8f3-8a8fabe423ed",
   "metadata": {},
   "outputs": [],
   "source": [
    "pat = re.compile(\"\\d+\")\n",
    "re.findall(pat, link_num)"
   ]
  },
  {
   "cell_type": "markdown",
   "id": "6975a805-0f79-4dbc-b926-044c19355ccb",
   "metadata": {},
   "source": [
    "# 카테고리화"
   ]
  },
  {
   "cell_type": "code",
   "execution_count": null,
   "id": "f75e8a7a-0116-4f1f-9a35-d2b959f9c7c8",
   "metadata": {},
   "outputs": [],
   "source": [
    "category={  'top': top,\n",
    "            'outer':outer,\n",
    "            'shoes':shoes,\n",
    "            'bottom':bottom,\n",
    "            'accesseory':accesseory}"
   ]
  },
  {
   "cell_type": "code",
   "execution_count": null,
   "id": "7bde4757-6b55-47f6-979c-8f616876975f",
   "metadata": {},
   "outputs": [],
   "source": [
    "for i in category:\n",
    "    for j in category[i]:\n",
    "        print(j)"
   ]
  },
  {
   "cell_type": "code",
   "execution_count": null,
   "id": "07322300-64d6-49cf-be3f-aa1d71a00bdb",
   "metadata": {},
   "outputs": [],
   "source": [
    "category"
   ]
  },
  {
   "cell_type": "code",
   "execution_count": null,
   "id": "3493170f-a73b-4cc2-99c2-58a41ea7b230",
   "metadata": {},
   "outputs": [],
   "source": [
    "result = []\n",
    "for i in category:\n",
    "    for c in category[i]:\n",
    "    # res = requests.get(f\"https://www.musinsa.com/ranking/best?period=now&age=ALL&mainCategory=&subCategory=&leafCategory=&price=&golf=false&kids=false&newProduct=false&exclusive=false&discount=false&soldOut=false&page={i}&viewType=small&priceMin=&priceMax=\")\n",
    "        for k in range(3):\n",
    "            driver.get(f\"https://www.musinsa.com/categories/item/{c}?d_cat_cd={c}&brand=&list_kind=small&sort=sale_high&sub_sort=1y&page={k}&display_cnt=90&group_sale=&exclusive_yn=&sale_goods=&timesale_yn=&ex_soldout=&kids=&color=&price1=&price2=&shoeSizeOption=&tags=&campaign_id=&includeKeywords=&measure=\")\n",
    "            html = driver.page_source\n",
    "            soup = BeautifulSoup(html, \"html.parser\")\n",
    "            for j in soup.select(\"#searchList > .li_box\") :\n",
    "                try :\n",
    "                    temp = []\n",
    "                    temp.append(상현.brand(j)) # 브랜드\n",
    "                    temp.append(상현.product(j)) # 상품명\n",
    "                    temp.append(상현.price(j)) # 가격\n",
    "                    temp.append(상현.review(j)) # 리뷰\n",
    "                    temp.append(상현.heart(j)) # 좋아요\n",
    "                    temp.append(\n",
    "                except :\n",
    "                    pass\n",
    "                result.append(temp)"
   ]
  },
  {
   "cell_type": "code",
   "execution_count": null,
   "id": "adc498de-b321-420a-9e82-17c0e3eaca2b",
   "metadata": {},
   "outputs": [],
   "source": [
    "result"
   ]
  },
  {
   "cell_type": "code",
   "execution_count": null,
   "id": "fa352fc2-25ba-465b-8967-f7a7cff44edb",
   "metadata": {},
   "outputs": [],
   "source": []
  }
 ],
 "metadata": {
  "kernelspec": {
   "display_name": "Python 3 (ipykernel)",
   "language": "python",
   "name": "python3"
  },
  "language_info": {
   "codemirror_mode": {
    "name": "ipython",
    "version": 3
   },
   "file_extension": ".py",
   "mimetype": "text/x-python",
   "name": "python",
   "nbconvert_exporter": "python",
   "pygments_lexer": "ipython3",
   "version": "3.9.12"
  }
 },
 "nbformat": 4,
 "nbformat_minor": 5
}
